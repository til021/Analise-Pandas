{
 "cells": [
  {
   "cell_type": "code",
   "execution_count": 1,
   "id": "260c0217",
   "metadata": {},
   "outputs": [],
   "source": [
    "# Importando as bibliotecas\n",
    "\n",
    "import pandas as pd\n",
    "import matplotlib.pyplot as plt\n",
    "plt.style.use(\"seaborn\")"
   ]
  },
  {
   "cell_type": "code",
   "execution_count": 2,
   "id": "0041dec2",
   "metadata": {},
   "outputs": [
    {
     "data": {
      "text/html": [
       "<div>\n",
       "<style scoped>\n",
       "    .dataframe tbody tr th:only-of-type {\n",
       "        vertical-align: middle;\n",
       "    }\n",
       "\n",
       "    .dataframe tbody tr th {\n",
       "        vertical-align: top;\n",
       "    }\n",
       "\n",
       "    .dataframe thead th {\n",
       "        text-align: right;\n",
       "    }\n",
       "</style>\n",
       "<table border=\"1\" class=\"dataframe\">\n",
       "  <thead>\n",
       "    <tr style=\"text-align: right;\">\n",
       "      <th></th>\n",
       "      <th>Data Venda</th>\n",
       "      <th>Data Envio</th>\n",
       "      <th>ID Loja</th>\n",
       "      <th>ID Produto</th>\n",
       "      <th>ID Cliente</th>\n",
       "      <th>No. Venda</th>\n",
       "      <th>Custo Unitário</th>\n",
       "      <th>Preço Unitário</th>\n",
       "      <th>Quantidade</th>\n",
       "      <th>Valor Desconto</th>\n",
       "      <th>Valor Venda</th>\n",
       "      <th>Produto</th>\n",
       "      <th>Fabricante</th>\n",
       "      <th>Marca</th>\n",
       "      <th>Classe</th>\n",
       "      <th>Cor</th>\n",
       "    </tr>\n",
       "  </thead>\n",
       "  <tbody>\n",
       "    <tr>\n",
       "      <th>0</th>\n",
       "      <td>09/05/2008 00:00</td>\n",
       "      <td>29/05/2008 00:00</td>\n",
       "      <td>199</td>\n",
       "      <td>384</td>\n",
       "      <td>18839</td>\n",
       "      <td>200805093CS607</td>\n",
       "      <td>348,58</td>\n",
       "      <td>758</td>\n",
       "      <td>6</td>\n",
       "      <td>0</td>\n",
       "      <td>4548</td>\n",
       "      <td>Adventure Works Laptop15.4W M1548 Red</td>\n",
       "      <td>Adventure Works</td>\n",
       "      <td>Adventure Works</td>\n",
       "      <td>Regular</td>\n",
       "      <td>Red</td>\n",
       "    </tr>\n",
       "    <tr>\n",
       "      <th>1</th>\n",
       "      <td>12/05/2008 00:00</td>\n",
       "      <td>17/05/2008 00:00</td>\n",
       "      <td>306</td>\n",
       "      <td>384</td>\n",
       "      <td>19051</td>\n",
       "      <td>200805123CS567</td>\n",
       "      <td>348,58</td>\n",
       "      <td>758</td>\n",
       "      <td>6</td>\n",
       "      <td>0</td>\n",
       "      <td>4548</td>\n",
       "      <td>Adventure Works Laptop15.4W M1548 Red</td>\n",
       "      <td>Adventure Works</td>\n",
       "      <td>Adventure Works</td>\n",
       "      <td>Regular</td>\n",
       "      <td>Red</td>\n",
       "    </tr>\n",
       "    <tr>\n",
       "      <th>2</th>\n",
       "      <td>14/05/2008 00:00</td>\n",
       "      <td>20/05/2008 00:00</td>\n",
       "      <td>306</td>\n",
       "      <td>384</td>\n",
       "      <td>19052</td>\n",
       "      <td>200805143CS576</td>\n",
       "      <td>348,58</td>\n",
       "      <td>758</td>\n",
       "      <td>6</td>\n",
       "      <td>0</td>\n",
       "      <td>4548</td>\n",
       "      <td>Adventure Works Laptop15.4W M1548 Red</td>\n",
       "      <td>Adventure Works</td>\n",
       "      <td>Adventure Works</td>\n",
       "      <td>Regular</td>\n",
       "      <td>Red</td>\n",
       "    </tr>\n",
       "    <tr>\n",
       "      <th>3</th>\n",
       "      <td>21/05/2008 00:00</td>\n",
       "      <td>27/05/2008 00:00</td>\n",
       "      <td>306</td>\n",
       "      <td>384</td>\n",
       "      <td>19052</td>\n",
       "      <td>200805213CS576</td>\n",
       "      <td>348,58</td>\n",
       "      <td>758</td>\n",
       "      <td>6</td>\n",
       "      <td>0</td>\n",
       "      <td>4548</td>\n",
       "      <td>Adventure Works Laptop15.4W M1548 Red</td>\n",
       "      <td>Adventure Works</td>\n",
       "      <td>Adventure Works</td>\n",
       "      <td>Regular</td>\n",
       "      <td>Red</td>\n",
       "    </tr>\n",
       "    <tr>\n",
       "      <th>4</th>\n",
       "      <td>20/06/2008 00:00</td>\n",
       "      <td>27/06/2008 00:00</td>\n",
       "      <td>306</td>\n",
       "      <td>384</td>\n",
       "      <td>19053</td>\n",
       "      <td>200806203CS586</td>\n",
       "      <td>348,58</td>\n",
       "      <td>758</td>\n",
       "      <td>6</td>\n",
       "      <td>0</td>\n",
       "      <td>4548</td>\n",
       "      <td>Adventure Works Laptop15.4W M1548 Red</td>\n",
       "      <td>Adventure Works</td>\n",
       "      <td>Adventure Works</td>\n",
       "      <td>Regular</td>\n",
       "      <td>Red</td>\n",
       "    </tr>\n",
       "  </tbody>\n",
       "</table>\n",
       "</div>"
      ],
      "text/plain": [
       "         Data Venda        Data Envio  ID Loja  ID Produto  ID Cliente  \\\n",
       "0  09/05/2008 00:00  29/05/2008 00:00      199         384       18839   \n",
       "1  12/05/2008 00:00  17/05/2008 00:00      306         384       19051   \n",
       "2  14/05/2008 00:00  20/05/2008 00:00      306         384       19052   \n",
       "3  21/05/2008 00:00  27/05/2008 00:00      306         384       19052   \n",
       "4  20/06/2008 00:00  27/06/2008 00:00      306         384       19053   \n",
       "\n",
       "        No. Venda Custo Unitário Preço Unitário  Quantidade Valor Desconto  \\\n",
       "0  200805093CS607         348,58            758           6              0   \n",
       "1  200805123CS567         348,58            758           6              0   \n",
       "2  200805143CS576         348,58            758           6              0   \n",
       "3  200805213CS576         348,58            758           6              0   \n",
       "4  200806203CS586         348,58            758           6              0   \n",
       "\n",
       "  Valor Venda                                Produto       Fabricante  \\\n",
       "0        4548  Adventure Works Laptop15.4W M1548 Red  Adventure Works   \n",
       "1        4548  Adventure Works Laptop15.4W M1548 Red  Adventure Works   \n",
       "2        4548  Adventure Works Laptop15.4W M1548 Red  Adventure Works   \n",
       "3        4548  Adventure Works Laptop15.4W M1548 Red  Adventure Works   \n",
       "4        4548  Adventure Works Laptop15.4W M1548 Red  Adventure Works   \n",
       "\n",
       "             Marca   Classe  Cor  \n",
       "0  Adventure Works  Regular  Red  \n",
       "1  Adventure Works  Regular  Red  \n",
       "2  Adventure Works  Regular  Red  \n",
       "3  Adventure Works  Regular  Red  \n",
       "4  Adventure Works  Regular  Red  "
      ]
     },
     "execution_count": 2,
     "metadata": {},
     "output_type": "execute_result"
    }
   ],
   "source": [
    "\"\"\"\n",
    "Upload do arquivo\n",
    "Atenção para os comandos necessários para fazer a leitura do arquivo!\n",
    "\"\"\"\n",
    "\n",
    "df = pd.read_csv(r\"datasets\\AdventureWorks.csv\", sep=\";\", on_bad_lines='skip', encoding='latin-1')\n",
    "df.head()"
   ]
  },
  {
   "cell_type": "code",
   "execution_count": 3,
   "id": "31479e3a",
   "metadata": {},
   "outputs": [
    {
     "name": "stdout",
     "output_type": "stream",
     "text": [
      "<class 'pandas.core.frame.DataFrame'>\n",
      "RangeIndex: 904 entries, 0 to 903\n",
      "Data columns (total 16 columns):\n",
      " #   Column          Non-Null Count  Dtype \n",
      "---  ------          --------------  ----- \n",
      " 0   Data Venda      904 non-null    object\n",
      " 1   Data Envio      904 non-null    object\n",
      " 2   ID Loja         904 non-null    int64 \n",
      " 3   ID Produto      904 non-null    int64 \n",
      " 4   ID Cliente      904 non-null    int64 \n",
      " 5   No. Venda       904 non-null    object\n",
      " 6   Custo Unitário  904 non-null    object\n",
      " 7   Preço Unitário  904 non-null    object\n",
      " 8   Quantidade      904 non-null    int64 \n",
      " 9   Valor Desconto  904 non-null    object\n",
      " 10  Valor Venda     904 non-null    object\n",
      " 11  Produto         904 non-null    object\n",
      " 12  Fabricante      904 non-null    object\n",
      " 13  Marca           904 non-null    object\n",
      " 14  Classe          904 non-null    object\n",
      " 15  Cor             904 non-null    object\n",
      "dtypes: int64(4), object(12)\n",
      "memory usage: 113.1+ KB\n"
     ]
    }
   ],
   "source": [
    "df.shape   # Obtem o número de rows (linhas) e colunas\n",
    "df.info()  # Obtem informações gerais sobre o BD"
   ]
  },
  {
   "cell_type": "code",
   "execution_count": 4,
   "id": "89559372",
   "metadata": {},
   "outputs": [
    {
     "data": {
      "text/plain": [
       "Index(['data_venda', 'data_envio', 'id_loja', 'id_produto', 'id_cliente',\n",
       "       'no._venda', 'custo_unitário', 'preço_unitário', 'quantidade',\n",
       "       'valor_desconto', 'valor_venda', 'produto', 'fabricante', 'marca',\n",
       "       'classe', 'cor'],\n",
       "      dtype='object')"
      ]
     },
     "execution_count": 4,
     "metadata": {},
     "output_type": "execute_result"
    }
   ],
   "source": [
    "# Converter os nomes das colunas para o formato snake_case:\n",
    "\n",
    "df.columns=[col.lower().replace(\" \",\"_\") for col in df.columns]\n",
    "df.columns"
   ]
  },
  {
   "cell_type": "code",
   "execution_count": 5,
   "id": "c1466fbc",
   "metadata": {},
   "outputs": [],
   "source": [
    "# Foi usada a vírgula para fazer a separação dos números decimais,\n",
    "# por isso as colunas numéricas foram reconhecidas como objects\n",
    "# temos que fazer a troca para pontos\n",
    "\n",
    "df[\"custo_unitário\"] = [item.replace(\",\", \".\") for item in df[\"custo_unitário\"]]\n",
    "df[\"preço_unitário\"] = [item.replace(\",\", \".\") for item in df[\"preço_unitário\"]]\n",
    "df[\"valor_desconto\"] = [item.replace(\",\", \".\") for item in df[\"valor_desconto\"]]\n",
    "df[\"valor_venda\"] = [item.replace(\",\", \".\") for item in df[\"valor_venda\"]]"
   ]
  },
  {
   "cell_type": "code",
   "execution_count": 6,
   "id": "522ddcfc",
   "metadata": {},
   "outputs": [
    {
     "data": {
      "text/html": [
       "<div>\n",
       "<style scoped>\n",
       "    .dataframe tbody tr th:only-of-type {\n",
       "        vertical-align: middle;\n",
       "    }\n",
       "\n",
       "    .dataframe tbody tr th {\n",
       "        vertical-align: top;\n",
       "    }\n",
       "\n",
       "    .dataframe thead th {\n",
       "        text-align: right;\n",
       "    }\n",
       "</style>\n",
       "<table border=\"1\" class=\"dataframe\">\n",
       "  <thead>\n",
       "    <tr style=\"text-align: right;\">\n",
       "      <th></th>\n",
       "      <th>data_venda</th>\n",
       "      <th>data_envio</th>\n",
       "      <th>id_loja</th>\n",
       "      <th>id_produto</th>\n",
       "      <th>id_cliente</th>\n",
       "      <th>no._venda</th>\n",
       "      <th>custo_unitário</th>\n",
       "      <th>preço_unitário</th>\n",
       "      <th>quantidade</th>\n",
       "      <th>valor_desconto</th>\n",
       "      <th>valor_venda</th>\n",
       "      <th>produto</th>\n",
       "      <th>fabricante</th>\n",
       "      <th>marca</th>\n",
       "      <th>classe</th>\n",
       "      <th>cor</th>\n",
       "    </tr>\n",
       "  </thead>\n",
       "  <tbody>\n",
       "    <tr>\n",
       "      <th>762</th>\n",
       "      <td>03/12/2008 00:00</td>\n",
       "      <td>10/12/2008 00:00</td>\n",
       "      <td>199</td>\n",
       "      <td>2497</td>\n",
       "      <td>18893</td>\n",
       "      <td>200812035CS800</td>\n",
       "      <td>5.09</td>\n",
       "      <td>9.99</td>\n",
       "      <td>156</td>\n",
       "      <td>311.688</td>\n",
       "      <td>1246.752</td>\n",
       "      <td>Headphone Adapter for Contoso Phone E130 White</td>\n",
       "      <td>Contoso, Ltd</td>\n",
       "      <td>Contoso</td>\n",
       "      <td>Economy</td>\n",
       "      <td>White</td>\n",
       "    </tr>\n",
       "    <tr>\n",
       "      <th>296</th>\n",
       "      <td>16/09/2009 00:00</td>\n",
       "      <td>25/09/2009 00:00</td>\n",
       "      <td>307</td>\n",
       "      <td>2497</td>\n",
       "      <td>19135</td>\n",
       "      <td>200909165CS725</td>\n",
       "      <td>5.09</td>\n",
       "      <td>9.99</td>\n",
       "      <td>240</td>\n",
       "      <td>0.000</td>\n",
       "      <td>2397.600</td>\n",
       "      <td>Headphone Adapter for Contoso Phone E130 White</td>\n",
       "      <td>Contoso, Ltd</td>\n",
       "      <td>Contoso</td>\n",
       "      <td>Economy</td>\n",
       "      <td>White</td>\n",
       "    </tr>\n",
       "    <tr>\n",
       "      <th>259</th>\n",
       "      <td>27/10/2008 00:00</td>\n",
       "      <td>07/11/2008 00:00</td>\n",
       "      <td>307</td>\n",
       "      <td>2496</td>\n",
       "      <td>19107</td>\n",
       "      <td>200810275CS646</td>\n",
       "      <td>5.09</td>\n",
       "      <td>9.99</td>\n",
       "      <td>240</td>\n",
       "      <td>0.000</td>\n",
       "      <td>2397.600</td>\n",
       "      <td>Headphone Adapter for Contoso Phone E130 Silver</td>\n",
       "      <td>Contoso, Ltd</td>\n",
       "      <td>Contoso</td>\n",
       "      <td>Economy</td>\n",
       "      <td>Silver</td>\n",
       "    </tr>\n",
       "    <tr>\n",
       "      <th>574</th>\n",
       "      <td>05/01/2008 00:00</td>\n",
       "      <td>15/01/2008 00:00</td>\n",
       "      <td>306</td>\n",
       "      <td>1178</td>\n",
       "      <td>19046</td>\n",
       "      <td>200801054CS525</td>\n",
       "      <td>330.66</td>\n",
       "      <td>998.00</td>\n",
       "      <td>8</td>\n",
       "      <td>1596.800</td>\n",
       "      <td>6387.200</td>\n",
       "      <td>Fabrikam Trendsetter 1/3'' 8.5mm X200 White</td>\n",
       "      <td>Fabrikam, Inc.</td>\n",
       "      <td>Fabrikam</td>\n",
       "      <td>Regular</td>\n",
       "      <td>White</td>\n",
       "    </tr>\n",
       "  </tbody>\n",
       "</table>\n",
       "</div>"
      ],
      "text/plain": [
       "           data_venda        data_envio  id_loja  id_produto  id_cliente  \\\n",
       "762  03/12/2008 00:00  10/12/2008 00:00      199        2497       18893   \n",
       "296  16/09/2009 00:00  25/09/2009 00:00      307        2497       19135   \n",
       "259  27/10/2008 00:00  07/11/2008 00:00      307        2496       19107   \n",
       "574  05/01/2008 00:00  15/01/2008 00:00      306        1178       19046   \n",
       "\n",
       "          no._venda  custo_unitário  preço_unitário  quantidade  \\\n",
       "762  200812035CS800            5.09            9.99         156   \n",
       "296  200909165CS725            5.09            9.99         240   \n",
       "259  200810275CS646            5.09            9.99         240   \n",
       "574  200801054CS525          330.66          998.00           8   \n",
       "\n",
       "     valor_desconto  valor_venda  \\\n",
       "762         311.688     1246.752   \n",
       "296           0.000     2397.600   \n",
       "259           0.000     2397.600   \n",
       "574        1596.800     6387.200   \n",
       "\n",
       "                                             produto      fabricante  \\\n",
       "762   Headphone Adapter for Contoso Phone E130 White    Contoso, Ltd   \n",
       "296   Headphone Adapter for Contoso Phone E130 White    Contoso, Ltd   \n",
       "259  Headphone Adapter for Contoso Phone E130 Silver    Contoso, Ltd   \n",
       "574      Fabrikam Trendsetter 1/3'' 8.5mm X200 White  Fabrikam, Inc.   \n",
       "\n",
       "        marca   classe     cor  \n",
       "762   Contoso  Economy   White  \n",
       "296   Contoso  Economy   White  \n",
       "259   Contoso  Economy  Silver  \n",
       "574  Fabrikam  Regular   White  "
      ]
     },
     "execution_count": 6,
     "metadata": {},
     "output_type": "execute_result"
    }
   ],
   "source": [
    "# Agora podemos converter as colunas para float \n",
    "\n",
    "df[\"custo_unitário\"] = df[\"custo_unitário\"].astype(\"float\")\n",
    "df[\"preço_unitário\"] = df[\"preço_unitário\"].astype(\"float\")\n",
    "df[\"valor_desconto\"] = df[\"valor_desconto\"].astype(\"float\")\n",
    "df[\"valor_venda\"] = df[\"valor_venda\"].astype(\"float\")\n",
    "\n",
    "df.sample(4)"
   ]
  },
  {
   "cell_type": "code",
   "execution_count": 7,
   "id": "bd1ce058",
   "metadata": {},
   "outputs": [],
   "source": [
    "# Calculando o custo total por venda:\n",
    "\n",
    "df[\"custo\"] = df[\"custo_unitário\"].mul(df[\"quantidade\"])"
   ]
  },
  {
   "cell_type": "code",
   "execution_count": 8,
   "id": "a9f439a5",
   "metadata": {},
   "outputs": [
    {
     "data": {
      "text/html": [
       "<div>\n",
       "<style scoped>\n",
       "    .dataframe tbody tr th:only-of-type {\n",
       "        vertical-align: middle;\n",
       "    }\n",
       "\n",
       "    .dataframe tbody tr th {\n",
       "        vertical-align: top;\n",
       "    }\n",
       "\n",
       "    .dataframe thead th {\n",
       "        text-align: right;\n",
       "    }\n",
       "</style>\n",
       "<table border=\"1\" class=\"dataframe\">\n",
       "  <thead>\n",
       "    <tr style=\"text-align: right;\">\n",
       "      <th></th>\n",
       "      <th>data_venda</th>\n",
       "      <th>data_envio</th>\n",
       "      <th>id_loja</th>\n",
       "      <th>id_produto</th>\n",
       "      <th>id_cliente</th>\n",
       "      <th>no._venda</th>\n",
       "      <th>custo_unitário</th>\n",
       "      <th>preço_unitário</th>\n",
       "      <th>quantidade</th>\n",
       "      <th>valor_desconto</th>\n",
       "      <th>valor_venda</th>\n",
       "      <th>produto</th>\n",
       "      <th>fabricante</th>\n",
       "      <th>marca</th>\n",
       "      <th>classe</th>\n",
       "      <th>cor</th>\n",
       "      <th>custo</th>\n",
       "    </tr>\n",
       "  </thead>\n",
       "  <tbody>\n",
       "    <tr>\n",
       "      <th>204</th>\n",
       "      <td>15/05/2008 00:00</td>\n",
       "      <td>21/05/2008 00:00</td>\n",
       "      <td>306</td>\n",
       "      <td>1155</td>\n",
       "      <td>19052</td>\n",
       "      <td>200805154CS576</td>\n",
       "      <td>324.69</td>\n",
       "      <td>980.0</td>\n",
       "      <td>12</td>\n",
       "      <td>0.0</td>\n",
       "      <td>11760.0</td>\n",
       "      <td>Fabrikam Trendsetter 2/3'' 17mm X100 Black</td>\n",
       "      <td>Fabrikam, Inc.</td>\n",
       "      <td>Fabrikam</td>\n",
       "      <td>Regular</td>\n",
       "      <td>Black</td>\n",
       "      <td>3896.28</td>\n",
       "    </tr>\n",
       "  </tbody>\n",
       "</table>\n",
       "</div>"
      ],
      "text/plain": [
       "           data_venda        data_envio  id_loja  id_produto  id_cliente  \\\n",
       "204  15/05/2008 00:00  21/05/2008 00:00      306        1155       19052   \n",
       "\n",
       "          no._venda  custo_unitário  preço_unitário  quantidade  \\\n",
       "204  200805154CS576          324.69           980.0          12   \n",
       "\n",
       "     valor_desconto  valor_venda                                     produto  \\\n",
       "204             0.0      11760.0  Fabrikam Trendsetter 2/3'' 17mm X100 Black   \n",
       "\n",
       "         fabricante     marca   classe    cor    custo  \n",
       "204  Fabrikam, Inc.  Fabrikam  Regular  Black  3896.28  "
      ]
     },
     "execution_count": 8,
     "metadata": {},
     "output_type": "execute_result"
    }
   ],
   "source": [
    "df.sample(1)"
   ]
  },
  {
   "cell_type": "code",
   "execution_count": 9,
   "id": "d0a765f7",
   "metadata": {},
   "outputs": [
    {
     "data": {
      "text/plain": [
       "2486783.05"
      ]
     },
     "execution_count": 9,
     "metadata": {},
     "output_type": "execute_result"
    }
   ],
   "source": [
    "# Cálculo do custo total\n",
    "\n",
    "round(df[\"custo\"].sum(), 2)"
   ]
  },
  {
   "cell_type": "code",
   "execution_count": 10,
   "id": "c53ed72e",
   "metadata": {},
   "outputs": [],
   "source": [
    "# Calculando o lucro por venda:\n",
    "df[\"lucro\"] = df[\"valor_venda\"] - df[\"custo\"]"
   ]
  },
  {
   "cell_type": "code",
   "execution_count": 11,
   "id": "79a15565",
   "metadata": {},
   "outputs": [
    {
     "data": {
      "text/html": [
       "<div>\n",
       "<style scoped>\n",
       "    .dataframe tbody tr th:only-of-type {\n",
       "        vertical-align: middle;\n",
       "    }\n",
       "\n",
       "    .dataframe tbody tr th {\n",
       "        vertical-align: top;\n",
       "    }\n",
       "\n",
       "    .dataframe thead th {\n",
       "        text-align: right;\n",
       "    }\n",
       "</style>\n",
       "<table border=\"1\" class=\"dataframe\">\n",
       "  <thead>\n",
       "    <tr style=\"text-align: right;\">\n",
       "      <th></th>\n",
       "      <th>data_venda</th>\n",
       "      <th>data_envio</th>\n",
       "      <th>id_loja</th>\n",
       "      <th>id_produto</th>\n",
       "      <th>id_cliente</th>\n",
       "      <th>no._venda</th>\n",
       "      <th>custo_unitário</th>\n",
       "      <th>preço_unitário</th>\n",
       "      <th>quantidade</th>\n",
       "      <th>valor_desconto</th>\n",
       "      <th>valor_venda</th>\n",
       "      <th>produto</th>\n",
       "      <th>fabricante</th>\n",
       "      <th>marca</th>\n",
       "      <th>classe</th>\n",
       "      <th>cor</th>\n",
       "      <th>custo</th>\n",
       "      <th>lucro</th>\n",
       "    </tr>\n",
       "  </thead>\n",
       "  <tbody>\n",
       "    <tr>\n",
       "      <th>417</th>\n",
       "      <td>18/12/2008 00:00</td>\n",
       "      <td>23/12/2008 00:00</td>\n",
       "      <td>307</td>\n",
       "      <td>1178</td>\n",
       "      <td>19111</td>\n",
       "      <td>200812184CS669</td>\n",
       "      <td>330.66</td>\n",
       "      <td>998.0</td>\n",
       "      <td>9</td>\n",
       "      <td>1347.3</td>\n",
       "      <td>7634.7</td>\n",
       "      <td>Fabrikam Trendsetter 1/3'' 8.5mm X200 White</td>\n",
       "      <td>Fabrikam, Inc.</td>\n",
       "      <td>Fabrikam</td>\n",
       "      <td>Regular</td>\n",
       "      <td>White</td>\n",
       "      <td>2975.94</td>\n",
       "      <td>4658.76</td>\n",
       "    </tr>\n",
       "  </tbody>\n",
       "</table>\n",
       "</div>"
      ],
      "text/plain": [
       "           data_venda        data_envio  id_loja  id_produto  id_cliente  \\\n",
       "417  18/12/2008 00:00  23/12/2008 00:00      307        1178       19111   \n",
       "\n",
       "          no._venda  custo_unitário  preço_unitário  quantidade  \\\n",
       "417  200812184CS669          330.66           998.0           9   \n",
       "\n",
       "     valor_desconto  valor_venda                                      produto  \\\n",
       "417          1347.3       7634.7  Fabrikam Trendsetter 1/3'' 8.5mm X200 White   \n",
       "\n",
       "         fabricante     marca   classe    cor    custo    lucro  \n",
       "417  Fabrikam, Inc.  Fabrikam  Regular  White  2975.94  4658.76  "
      ]
     },
     "execution_count": 11,
     "metadata": {},
     "output_type": "execute_result"
    }
   ],
   "source": [
    "df.sample(1)"
   ]
  },
  {
   "cell_type": "code",
   "execution_count": 12,
   "id": "539c4b89",
   "metadata": {},
   "outputs": [
    {
     "data": {
      "text/plain": [
       "3497823.09"
      ]
     },
     "execution_count": 12,
     "metadata": {},
     "output_type": "execute_result"
    }
   ],
   "source": [
    "# Cálculo do lucro total\n",
    "\n",
    "round(df[\"lucro\"].sum(), 2)"
   ]
  },
  {
   "cell_type": "code",
   "execution_count": 13,
   "id": "d96562ff",
   "metadata": {},
   "outputs": [
    {
     "data": {
      "text/plain": [
       "0      09/05/2008 00:00\n",
       "1      12/05/2008 00:00\n",
       "2      14/05/2008 00:00\n",
       "3      21/05/2008 00:00\n",
       "4      20/06/2008 00:00\n",
       "             ...       \n",
       "899    22/03/2008 00:00\n",
       "900    04/10/2008 00:00\n",
       "901    11/12/2008 00:00\n",
       "902    17/12/2008 00:00\n",
       "903    21/12/2008 00:00\n",
       "Name: data_venda, Length: 904, dtype: object"
      ]
     },
     "execution_count": 13,
     "metadata": {},
     "output_type": "execute_result"
    }
   ],
   "source": [
    "df[\"data_venda\"]"
   ]
  },
  {
   "cell_type": "code",
   "execution_count": 14,
   "id": "4aadd5a9",
   "metadata": {},
   "outputs": [
    {
     "data": {
      "text/html": [
       "<div>\n",
       "<style scoped>\n",
       "    .dataframe tbody tr th:only-of-type {\n",
       "        vertical-align: middle;\n",
       "    }\n",
       "\n",
       "    .dataframe tbody tr th {\n",
       "        vertical-align: top;\n",
       "    }\n",
       "\n",
       "    .dataframe thead th {\n",
       "        text-align: right;\n",
       "    }\n",
       "</style>\n",
       "<table border=\"1\" class=\"dataframe\">\n",
       "  <thead>\n",
       "    <tr style=\"text-align: right;\">\n",
       "      <th></th>\n",
       "      <th>data_venda</th>\n",
       "      <th>data_envio</th>\n",
       "      <th>id_loja</th>\n",
       "      <th>id_produto</th>\n",
       "      <th>id_cliente</th>\n",
       "      <th>no._venda</th>\n",
       "      <th>custo_unitário</th>\n",
       "      <th>preço_unitário</th>\n",
       "      <th>quantidade</th>\n",
       "      <th>valor_desconto</th>\n",
       "      <th>valor_venda</th>\n",
       "      <th>produto</th>\n",
       "      <th>fabricante</th>\n",
       "      <th>marca</th>\n",
       "      <th>classe</th>\n",
       "      <th>cor</th>\n",
       "      <th>custo</th>\n",
       "      <th>lucro</th>\n",
       "    </tr>\n",
       "  </thead>\n",
       "  <tbody>\n",
       "    <tr>\n",
       "      <th>903</th>\n",
       "      <td>2008-12-21</td>\n",
       "      <td>2008-12-25</td>\n",
       "      <td>306</td>\n",
       "      <td>1155</td>\n",
       "      <td>19060</td>\n",
       "      <td>200812214CS676</td>\n",
       "      <td>324.69</td>\n",
       "      <td>980.0</td>\n",
       "      <td>6</td>\n",
       "      <td>1176.0</td>\n",
       "      <td>4704.0</td>\n",
       "      <td>Fabrikam Trendsetter 2/3'' 17mm X100 Black</td>\n",
       "      <td>Fabrikam, Inc.</td>\n",
       "      <td>Fabrikam</td>\n",
       "      <td>Regular</td>\n",
       "      <td>Black</td>\n",
       "      <td>1948.14</td>\n",
       "      <td>2755.86</td>\n",
       "    </tr>\n",
       "    <tr>\n",
       "      <th>454</th>\n",
       "      <td>2009-02-23</td>\n",
       "      <td>2009-03-06</td>\n",
       "      <td>307</td>\n",
       "      <td>366</td>\n",
       "      <td>19117</td>\n",
       "      <td>200902233CS706</td>\n",
       "      <td>348.58</td>\n",
       "      <td>758.0</td>\n",
       "      <td>16</td>\n",
       "      <td>2425.6</td>\n",
       "      <td>9702.4</td>\n",
       "      <td>Adventure Works Laptop15.4W M1548 Black</td>\n",
       "      <td>Adventure Works</td>\n",
       "      <td>Adventure Works</td>\n",
       "      <td>Regular</td>\n",
       "      <td>Black</td>\n",
       "      <td>5577.28</td>\n",
       "      <td>4125.12</td>\n",
       "    </tr>\n",
       "    <tr>\n",
       "      <th>401</th>\n",
       "      <td>2009-11-10</td>\n",
       "      <td>2009-11-18</td>\n",
       "      <td>199</td>\n",
       "      <td>1178</td>\n",
       "      <td>19014</td>\n",
       "      <td>200911104CS929</td>\n",
       "      <td>330.66</td>\n",
       "      <td>998.0</td>\n",
       "      <td>20</td>\n",
       "      <td>3992.0</td>\n",
       "      <td>15968.0</td>\n",
       "      <td>Fabrikam Trendsetter 1/3'' 8.5mm X200 White</td>\n",
       "      <td>Fabrikam, Inc.</td>\n",
       "      <td>Fabrikam</td>\n",
       "      <td>Regular</td>\n",
       "      <td>White</td>\n",
       "      <td>6613.20</td>\n",
       "      <td>9354.80</td>\n",
       "    </tr>\n",
       "    <tr>\n",
       "      <th>235</th>\n",
       "      <td>2008-06-22</td>\n",
       "      <td>2008-06-29</td>\n",
       "      <td>306</td>\n",
       "      <td>1226</td>\n",
       "      <td>19053</td>\n",
       "      <td>200806224CS586</td>\n",
       "      <td>330.99</td>\n",
       "      <td>999.0</td>\n",
       "      <td>24</td>\n",
       "      <td>0.0</td>\n",
       "      <td>23976.0</td>\n",
       "      <td>Fabrikam Trendsetter 1/3'' 8.5mm X200 Black</td>\n",
       "      <td>Fabrikam, Inc.</td>\n",
       "      <td>Fabrikam</td>\n",
       "      <td>Regular</td>\n",
       "      <td>Black</td>\n",
       "      <td>7943.76</td>\n",
       "      <td>16032.24</td>\n",
       "    </tr>\n",
       "    <tr>\n",
       "      <th>212</th>\n",
       "      <td>2009-05-23</td>\n",
       "      <td>2009-06-04</td>\n",
       "      <td>306</td>\n",
       "      <td>366</td>\n",
       "      <td>19068</td>\n",
       "      <td>200905233CS748</td>\n",
       "      <td>348.58</td>\n",
       "      <td>758.0</td>\n",
       "      <td>18</td>\n",
       "      <td>0.0</td>\n",
       "      <td>13644.0</td>\n",
       "      <td>Adventure Works Laptop15.4W M1548 Black</td>\n",
       "      <td>Adventure Works</td>\n",
       "      <td>Adventure Works</td>\n",
       "      <td>Regular</td>\n",
       "      <td>Black</td>\n",
       "      <td>6274.44</td>\n",
       "      <td>7369.56</td>\n",
       "    </tr>\n",
       "  </tbody>\n",
       "</table>\n",
       "</div>"
      ],
      "text/plain": [
       "    data_venda data_envio  id_loja  id_produto  id_cliente       no._venda  \\\n",
       "903 2008-12-21 2008-12-25      306        1155       19060  200812214CS676   \n",
       "454 2009-02-23 2009-03-06      307         366       19117  200902233CS706   \n",
       "401 2009-11-10 2009-11-18      199        1178       19014  200911104CS929   \n",
       "235 2008-06-22 2008-06-29      306        1226       19053  200806224CS586   \n",
       "212 2009-05-23 2009-06-04      306         366       19068  200905233CS748   \n",
       "\n",
       "     custo_unitário  preço_unitário  quantidade  valor_desconto  valor_venda  \\\n",
       "903          324.69           980.0           6          1176.0       4704.0   \n",
       "454          348.58           758.0          16          2425.6       9702.4   \n",
       "401          330.66           998.0          20          3992.0      15968.0   \n",
       "235          330.99           999.0          24             0.0      23976.0   \n",
       "212          348.58           758.0          18             0.0      13644.0   \n",
       "\n",
       "                                         produto       fabricante  \\\n",
       "903   Fabrikam Trendsetter 2/3'' 17mm X100 Black   Fabrikam, Inc.   \n",
       "454      Adventure Works Laptop15.4W M1548 Black  Adventure Works   \n",
       "401  Fabrikam Trendsetter 1/3'' 8.5mm X200 White   Fabrikam, Inc.   \n",
       "235  Fabrikam Trendsetter 1/3'' 8.5mm X200 Black   Fabrikam, Inc.   \n",
       "212      Adventure Works Laptop15.4W M1548 Black  Adventure Works   \n",
       "\n",
       "               marca   classe    cor    custo     lucro  \n",
       "903         Fabrikam  Regular  Black  1948.14   2755.86  \n",
       "454  Adventure Works  Regular  Black  5577.28   4125.12  \n",
       "401         Fabrikam  Regular  White  6613.20   9354.80  \n",
       "235         Fabrikam  Regular  Black  7943.76  16032.24  \n",
       "212  Adventure Works  Regular  Black  6274.44   7369.56  "
      ]
     },
     "execution_count": 14,
     "metadata": {},
     "output_type": "execute_result"
    }
   ],
   "source": [
    "# Convertendo as colunas de data:\n",
    "\n",
    "\n",
    "df['data_venda'] = pd.to_datetime(df['data_venda'], format='%d/%m/%Y %H:%M') # Para dar certo tem que colocar os espaçadores!\n",
    "df['data_envio'] = pd.to_datetime(df['data_envio'], format='%d/%m/%Y %H:%M')\n",
    "df.sample(5)"
   ]
  },
  {
   "cell_type": "code",
   "execution_count": 15,
   "id": "dc32841a",
   "metadata": {},
   "outputs": [
    {
     "data": {
      "text/html": [
       "<div>\n",
       "<style scoped>\n",
       "    .dataframe tbody tr th:only-of-type {\n",
       "        vertical-align: middle;\n",
       "    }\n",
       "\n",
       "    .dataframe tbody tr th {\n",
       "        vertical-align: top;\n",
       "    }\n",
       "\n",
       "    .dataframe thead th {\n",
       "        text-align: right;\n",
       "    }\n",
       "</style>\n",
       "<table border=\"1\" class=\"dataframe\">\n",
       "  <thead>\n",
       "    <tr style=\"text-align: right;\">\n",
       "      <th></th>\n",
       "      <th>data_venda</th>\n",
       "      <th>data_envio</th>\n",
       "      <th>id_loja</th>\n",
       "      <th>id_produto</th>\n",
       "      <th>id_cliente</th>\n",
       "      <th>no._venda</th>\n",
       "      <th>custo_unitário</th>\n",
       "      <th>preço_unitário</th>\n",
       "      <th>quantidade</th>\n",
       "      <th>valor_desconto</th>\n",
       "      <th>valor_venda</th>\n",
       "      <th>produto</th>\n",
       "      <th>fabricante</th>\n",
       "      <th>marca</th>\n",
       "      <th>classe</th>\n",
       "      <th>cor</th>\n",
       "      <th>custo</th>\n",
       "      <th>lucro</th>\n",
       "      <th>tempo_envio</th>\n",
       "    </tr>\n",
       "  </thead>\n",
       "  <tbody>\n",
       "    <tr>\n",
       "      <th>790</th>\n",
       "      <td>2009-02-23</td>\n",
       "      <td>2009-03-06</td>\n",
       "      <td>307</td>\n",
       "      <td>2497</td>\n",
       "      <td>19117</td>\n",
       "      <td>200902235CS706</td>\n",
       "      <td>5.09</td>\n",
       "      <td>9.99</td>\n",
       "      <td>216</td>\n",
       "      <td>431.568</td>\n",
       "      <td>1726.272</td>\n",
       "      <td>Headphone Adapter for Contoso Phone E130 White</td>\n",
       "      <td>Contoso, Ltd</td>\n",
       "      <td>Contoso</td>\n",
       "      <td>Economy</td>\n",
       "      <td>White</td>\n",
       "      <td>1099.44</td>\n",
       "      <td>626.832</td>\n",
       "      <td>11 days</td>\n",
       "    </tr>\n",
       "  </tbody>\n",
       "</table>\n",
       "</div>"
      ],
      "text/plain": [
       "    data_venda data_envio  id_loja  id_produto  id_cliente       no._venda  \\\n",
       "790 2009-02-23 2009-03-06      307        2497       19117  200902235CS706   \n",
       "\n",
       "     custo_unitário  preço_unitário  quantidade  valor_desconto  valor_venda  \\\n",
       "790            5.09            9.99         216         431.568     1726.272   \n",
       "\n",
       "                                            produto    fabricante    marca  \\\n",
       "790  Headphone Adapter for Contoso Phone E130 White  Contoso, Ltd  Contoso   \n",
       "\n",
       "      classe    cor    custo    lucro tempo_envio  \n",
       "790  Economy  White  1099.44  626.832     11 days  "
      ]
     },
     "execution_count": 15,
     "metadata": {},
     "output_type": "execute_result"
    }
   ],
   "source": [
    "# Tempo de envio do produto\n",
    "df[\"tempo_envio\"] = df[\"data_envio\"] - df[\"data_venda\"]\n",
    "df.sample(1)"
   ]
  },
  {
   "cell_type": "code",
   "execution_count": 16,
   "id": "8cb553c2",
   "metadata": {},
   "outputs": [
    {
     "data": {
      "text/plain": [
       "Timedelta('8 days 13:02:07.433628318')"
      ]
     },
     "execution_count": 16,
     "metadata": {},
     "output_type": "execute_result"
    }
   ],
   "source": [
    "df[\"tempo_envio\"].mean()"
   ]
  },
  {
   "cell_type": "code",
   "execution_count": 17,
   "id": "00e07041",
   "metadata": {},
   "outputs": [
    {
     "data": {
      "text/plain": [
       "marca\n",
       "Adventure Works   8 days 15:55:57.983193277\n",
       "Contoso           8 days 11:18:08.372093023\n",
       "Fabrikam          8 days 12:14:34.493927125\n",
       "Name: tempo_envio, dtype: timedelta64[ns]"
      ]
     },
     "execution_count": 17,
     "metadata": {},
     "output_type": "execute_result"
    }
   ],
   "source": [
    "df.groupby(\"marca\")[\"tempo_envio\"].mean()"
   ]
  },
  {
   "cell_type": "code",
   "execution_count": 18,
   "id": "a47a1d9a",
   "metadata": {},
   "outputs": [
    {
     "data": {
      "text/plain": [
       "data_venda        0\n",
       "data_envio        0\n",
       "id_loja           0\n",
       "id_produto        0\n",
       "id_cliente        0\n",
       "no._venda         0\n",
       "custo_unitário    0\n",
       "preço_unitário    0\n",
       "quantidade        0\n",
       "valor_desconto    0\n",
       "valor_venda       0\n",
       "produto           0\n",
       "fabricante        0\n",
       "marca             0\n",
       "classe            0\n",
       "cor               0\n",
       "custo             0\n",
       "lucro             0\n",
       "tempo_envio       0\n",
       "dtype: int64"
      ]
     },
     "execution_count": 18,
     "metadata": {},
     "output_type": "execute_result"
    }
   ],
   "source": [
    "# Não temos valores ausentes!\n",
    "\n",
    "df.isnull().sum()"
   ]
  },
  {
   "cell_type": "code",
   "execution_count": 19,
   "id": "18a9b6b8",
   "metadata": {},
   "outputs": [
    {
     "data": {
      "text/plain": [
       "data_venda  marca          \n",
       "2008        Adventure Works    3.066412e+05\n",
       "            Contoso            5.641600e+04\n",
       "            Fabrikam           1.557021e+06\n",
       "2009        Adventure Works    4.053951e+05\n",
       "            Contoso            1.382590e+05\n",
       "            Fabrikam           1.034091e+06\n",
       "Name: lucro, dtype: float64"
      ]
     },
     "execution_count": 19,
     "metadata": {},
     "output_type": "execute_result"
    }
   ],
   "source": [
    "# Verificar o lucro por ano e por marca:\n",
    "\n",
    "df.groupby([df[\"data_venda\"].dt.year, \"marca\"])[\"lucro\"].sum()"
   ]
  },
  {
   "cell_type": "code",
   "execution_count": 20,
   "id": "1f6e20ea",
   "metadata": {},
   "outputs": [
    {
     "data": {
      "text/plain": [
       "data_venda  marca          \n",
       "2008        Adventure Works             306,641.16\n",
       "            Contoso                      56,416.00\n",
       "            Fabrikam                  1,557,020.55\n",
       "2009        Adventure Works             405,395.08\n",
       "            Contoso                     138,258.95\n",
       "            Fabrikam                  1,034,091.35\n",
       "Name: lucro, dtype: float64"
      ]
     },
     "execution_count": 20,
     "metadata": {},
     "output_type": "execute_result"
    }
   ],
   "source": [
    "# Alterando a formatação dos números\n",
    "\n",
    "pd.options.display.float_format = \"{:20,.2f}\".format\n",
    "df.groupby([df[\"data_venda\"].dt.year, \"marca\"])[\"lucro\"].sum()"
   ]
  },
  {
   "cell_type": "code",
   "execution_count": 21,
   "id": "700cf67b",
   "metadata": {},
   "outputs": [
    {
     "data": {
      "text/html": [
       "<div>\n",
       "<style scoped>\n",
       "    .dataframe tbody tr th:only-of-type {\n",
       "        vertical-align: middle;\n",
       "    }\n",
       "\n",
       "    .dataframe tbody tr th {\n",
       "        vertical-align: top;\n",
       "    }\n",
       "\n",
       "    .dataframe thead th {\n",
       "        text-align: right;\n",
       "    }\n",
       "</style>\n",
       "<table border=\"1\" class=\"dataframe\">\n",
       "  <thead>\n",
       "    <tr style=\"text-align: right;\">\n",
       "      <th></th>\n",
       "      <th>data_venda</th>\n",
       "      <th>marca</th>\n",
       "      <th>lucro</th>\n",
       "    </tr>\n",
       "  </thead>\n",
       "  <tbody>\n",
       "    <tr>\n",
       "      <th>0</th>\n",
       "      <td>2008</td>\n",
       "      <td>Adventure Works</td>\n",
       "      <td>306,641.16</td>\n",
       "    </tr>\n",
       "    <tr>\n",
       "      <th>1</th>\n",
       "      <td>2008</td>\n",
       "      <td>Contoso</td>\n",
       "      <td>56,416.00</td>\n",
       "    </tr>\n",
       "    <tr>\n",
       "      <th>2</th>\n",
       "      <td>2008</td>\n",
       "      <td>Fabrikam</td>\n",
       "      <td>1,557,020.55</td>\n",
       "    </tr>\n",
       "    <tr>\n",
       "      <th>3</th>\n",
       "      <td>2009</td>\n",
       "      <td>Adventure Works</td>\n",
       "      <td>405,395.08</td>\n",
       "    </tr>\n",
       "    <tr>\n",
       "      <th>4</th>\n",
       "      <td>2009</td>\n",
       "      <td>Contoso</td>\n",
       "      <td>138,258.95</td>\n",
       "    </tr>\n",
       "    <tr>\n",
       "      <th>5</th>\n",
       "      <td>2009</td>\n",
       "      <td>Fabrikam</td>\n",
       "      <td>1,034,091.35</td>\n",
       "    </tr>\n",
       "  </tbody>\n",
       "</table>\n",
       "</div>"
      ],
      "text/plain": [
       "   data_venda            marca                lucro\n",
       "0        2008  Adventure Works           306,641.16\n",
       "1        2008          Contoso            56,416.00\n",
       "2        2008         Fabrikam         1,557,020.55\n",
       "3        2009  Adventure Works           405,395.08\n",
       "4        2009          Contoso           138,258.95\n",
       "5        2009         Fabrikam         1,034,091.35"
      ]
     },
     "execution_count": 21,
     "metadata": {},
     "output_type": "execute_result"
    }
   ],
   "source": [
    "# podemos melhorar a exibição do lucro através do comando reset_index:\n",
    "\n",
    "lucro_ano = df.groupby([df[\"data_venda\"].dt.year, \"marca\"])[\"lucro\"].sum().reset_index()\n",
    "lucro_ano"
   ]
  },
  {
   "cell_type": "code",
   "execution_count": 22,
   "id": "8dfbf163",
   "metadata": {},
   "outputs": [
    {
     "data": {
      "text/html": [
       "<div>\n",
       "<style scoped>\n",
       "    .dataframe tbody tr th:only-of-type {\n",
       "        vertical-align: middle;\n",
       "    }\n",
       "\n",
       "    .dataframe tbody tr th {\n",
       "        vertical-align: top;\n",
       "    }\n",
       "\n",
       "    .dataframe thead th {\n",
       "        text-align: right;\n",
       "    }\n",
       "</style>\n",
       "<table border=\"1\" class=\"dataframe\">\n",
       "  <thead>\n",
       "    <tr style=\"text-align: right;\">\n",
       "      <th></th>\n",
       "      <th>produto</th>\n",
       "      <th>quantidade</th>\n",
       "    </tr>\n",
       "  </thead>\n",
       "  <tbody>\n",
       "    <tr>\n",
       "      <th>0</th>\n",
       "      <td>Headphone Adapter for Contoso Phone E130 Silver</td>\n",
       "      <td>25232</td>\n",
       "    </tr>\n",
       "    <tr>\n",
       "      <th>1</th>\n",
       "      <td>Headphone Adapter for Contoso Phone E130 White</td>\n",
       "      <td>25008</td>\n",
       "    </tr>\n",
       "    <tr>\n",
       "      <th>2</th>\n",
       "      <td>Adventure Works Laptop15.4W M1548 Black</td>\n",
       "      <td>1089</td>\n",
       "    </tr>\n",
       "    <tr>\n",
       "      <th>3</th>\n",
       "      <td>Fabrikam Trendsetter 2/3'' 17mm X100 Grey</td>\n",
       "      <td>1087</td>\n",
       "    </tr>\n",
       "    <tr>\n",
       "      <th>4</th>\n",
       "      <td>Adventure Works Laptop15.4W M1548 Red</td>\n",
       "      <td>1047</td>\n",
       "    </tr>\n",
       "    <tr>\n",
       "      <th>5</th>\n",
       "      <td>Fabrikam Trendsetter 2/3'' 17mm X100 Black</td>\n",
       "      <td>926</td>\n",
       "    </tr>\n",
       "    <tr>\n",
       "      <th>6</th>\n",
       "      <td>Fabrikam Trendsetter 1/3'' 8.5mm X200 Black</td>\n",
       "      <td>884</td>\n",
       "    </tr>\n",
       "    <tr>\n",
       "      <th>7</th>\n",
       "      <td>Fabrikam Trendsetter 1/3'' 8.5mm X200 Grey</td>\n",
       "      <td>845</td>\n",
       "    </tr>\n",
       "    <tr>\n",
       "      <th>8</th>\n",
       "      <td>Fabrikam Trendsetter 1/3'' 8.5mm X200 White</td>\n",
       "      <td>789</td>\n",
       "    </tr>\n",
       "  </tbody>\n",
       "</table>\n",
       "</div>"
      ],
      "text/plain": [
       "                                           produto  quantidade\n",
       "0  Headphone Adapter for Contoso Phone E130 Silver       25232\n",
       "1   Headphone Adapter for Contoso Phone E130 White       25008\n",
       "2          Adventure Works Laptop15.4W M1548 Black        1089\n",
       "3        Fabrikam Trendsetter 2/3'' 17mm X100 Grey        1087\n",
       "4            Adventure Works Laptop15.4W M1548 Red        1047\n",
       "5       Fabrikam Trendsetter 2/3'' 17mm X100 Black         926\n",
       "6      Fabrikam Trendsetter 1/3'' 8.5mm X200 Black         884\n",
       "7       Fabrikam Trendsetter 1/3'' 8.5mm X200 Grey         845\n",
       "8      Fabrikam Trendsetter 1/3'' 8.5mm X200 White         789"
      ]
     },
     "execution_count": 22,
     "metadata": {},
     "output_type": "execute_result"
    }
   ],
   "source": [
    "# Qual o total de produtos vendidos?\n",
    "\n",
    "df.groupby(\"produto\")[\"quantidade\"].sum().sort_values(ascending=False).reset_index()"
   ]
  },
  {
   "cell_type": "code",
   "execution_count": 23,
   "id": "429ea99f",
   "metadata": {},
   "outputs": [
    {
     "data": {
      "text/plain": [
       "Text(0, 0.5, 'Produto')"
      ]
     },
     "execution_count": 23,
     "metadata": {},
     "output_type": "execute_result"
    },
    {
     "data": {
      "image/png": "[encoded data removed]",
      "text/plain": [
       "<Figure size 432x288 with 1 Axes>"
      ]
     },
     "metadata": {
      "needs_background": "light"
     },
     "output_type": "display_data"
    }
   ],
   "source": [
    "# Gráfico total de produtos vendidos:\n",
    "\n",
    "df.groupby(\"produto\")[\"quantidade\"].sum().sort_values(ascending=True).plot.barh(title=\"Total de Produtos Vendidos\")\n",
    "plt.xlabel(\"Total\")\n",
    "plt.ylabel(\"Produto\")"
   ]
  },
  {
   "cell_type": "code",
   "execution_count": 24,
   "id": "058354d5",
   "metadata": {},
   "outputs": [
    {
     "data": {
      "text/plain": [
       "Text(0, 0.5, 'Receita')"
      ]
     },
     "execution_count": 24,
     "metadata": {},
     "output_type": "execute_result"
    },
    {
     "data": {
      "image/png": "[encoded data removed]",
      "text/plain": [
       "<Figure size 432x288 with 1 Axes>"
      ]
     },
     "metadata": {
      "needs_background": "light"
     },
     "output_type": "display_data"
    }
   ],
   "source": [
    "df.groupby(df[\"data_venda\"].dt.year)[\"lucro\"].sum().plot.bar(title=\"Lucro x Ano\")\n",
    "plt.xlabel(\"Ano\")\n",
    "plt.ylabel(\"Receita\")"
   ]
  },
  {
   "cell_type": "code",
   "execution_count": 25,
   "id": "7a320f01",
   "metadata": {},
   "outputs": [
    {
     "data": {
      "text/plain": [
       "data_venda\n",
       "2008           1,920,077.71\n",
       "2009           1,577,745.38\n",
       "Name: lucro, dtype: float64"
      ]
     },
     "execution_count": 25,
     "metadata": {},
     "output_type": "execute_result"
    }
   ],
   "source": [
    "df.groupby(df[\"data_venda\"].dt.year)[\"lucro\"].sum()"
   ]
  },
  {
   "cell_type": "code",
   "execution_count": 26,
   "id": "0cf12b95",
   "metadata": {},
   "outputs": [],
   "source": [
    "df_2009 = df[df[\"data_venda\"].dt.year == 2009]"
   ]
  },
  {
   "cell_type": "code",
   "execution_count": 27,
   "id": "9019ef8d",
   "metadata": {},
   "outputs": [
    {
     "data": {
      "text/html": [
       "<div>\n",
       "<style scoped>\n",
       "    .dataframe tbody tr th:only-of-type {\n",
       "        vertical-align: middle;\n",
       "    }\n",
       "\n",
       "    .dataframe tbody tr th {\n",
       "        vertical-align: top;\n",
       "    }\n",
       "\n",
       "    .dataframe thead th {\n",
       "        text-align: right;\n",
       "    }\n",
       "</style>\n",
       "<table border=\"1\" class=\"dataframe\">\n",
       "  <thead>\n",
       "    <tr style=\"text-align: right;\">\n",
       "      <th></th>\n",
       "      <th>data_venda</th>\n",
       "      <th>data_envio</th>\n",
       "      <th>id_loja</th>\n",
       "      <th>id_produto</th>\n",
       "      <th>id_cliente</th>\n",
       "      <th>no._venda</th>\n",
       "      <th>custo_unitário</th>\n",
       "      <th>preço_unitário</th>\n",
       "      <th>quantidade</th>\n",
       "      <th>valor_desconto</th>\n",
       "      <th>valor_venda</th>\n",
       "      <th>produto</th>\n",
       "      <th>fabricante</th>\n",
       "      <th>marca</th>\n",
       "      <th>classe</th>\n",
       "      <th>cor</th>\n",
       "      <th>custo</th>\n",
       "      <th>lucro</th>\n",
       "      <th>tempo_envio</th>\n",
       "    </tr>\n",
       "  </thead>\n",
       "  <tbody>\n",
       "    <tr>\n",
       "      <th>11</th>\n",
       "      <td>2009-05-02</td>\n",
       "      <td>2009-05-14</td>\n",
       "      <td>199</td>\n",
       "      <td>384</td>\n",
       "      <td>18938</td>\n",
       "      <td>200905023CS847</td>\n",
       "      <td>348.58</td>\n",
       "      <td>758.00</td>\n",
       "      <td>6</td>\n",
       "      <td>0.00</td>\n",
       "      <td>4,548.00</td>\n",
       "      <td>Adventure Works Laptop15.4W M1548 Red</td>\n",
       "      <td>Adventure Works</td>\n",
       "      <td>Adventure Works</td>\n",
       "      <td>Regular</td>\n",
       "      <td>Red</td>\n",
       "      <td>2,091.48</td>\n",
       "      <td>2,456.52</td>\n",
       "      <td>12 days</td>\n",
       "    </tr>\n",
       "    <tr>\n",
       "      <th>12</th>\n",
       "      <td>2009-05-16</td>\n",
       "      <td>2009-05-27</td>\n",
       "      <td>306</td>\n",
       "      <td>384</td>\n",
       "      <td>19067</td>\n",
       "      <td>200905163CS746</td>\n",
       "      <td>348.58</td>\n",
       "      <td>758.00</td>\n",
       "      <td>6</td>\n",
       "      <td>0.00</td>\n",
       "      <td>4,548.00</td>\n",
       "      <td>Adventure Works Laptop15.4W M1548 Red</td>\n",
       "      <td>Adventure Works</td>\n",
       "      <td>Adventure Works</td>\n",
       "      <td>Regular</td>\n",
       "      <td>Red</td>\n",
       "      <td>2,091.48</td>\n",
       "      <td>2,456.52</td>\n",
       "      <td>11 days</td>\n",
       "    </tr>\n",
       "    <tr>\n",
       "      <th>13</th>\n",
       "      <td>2009-05-31</td>\n",
       "      <td>2009-06-12</td>\n",
       "      <td>306</td>\n",
       "      <td>384</td>\n",
       "      <td>19068</td>\n",
       "      <td>200905313CS748</td>\n",
       "      <td>348.58</td>\n",
       "      <td>758.00</td>\n",
       "      <td>6</td>\n",
       "      <td>0.00</td>\n",
       "      <td>4,548.00</td>\n",
       "      <td>Adventure Works Laptop15.4W M1548 Red</td>\n",
       "      <td>Adventure Works</td>\n",
       "      <td>Adventure Works</td>\n",
       "      <td>Regular</td>\n",
       "      <td>Red</td>\n",
       "      <td>2,091.48</td>\n",
       "      <td>2,456.52</td>\n",
       "      <td>12 days</td>\n",
       "    </tr>\n",
       "    <tr>\n",
       "      <th>14</th>\n",
       "      <td>2009-06-28</td>\n",
       "      <td>2009-07-11</td>\n",
       "      <td>199</td>\n",
       "      <td>384</td>\n",
       "      <td>18959</td>\n",
       "      <td>200906283CS870</td>\n",
       "      <td>348.58</td>\n",
       "      <td>758.00</td>\n",
       "      <td>6</td>\n",
       "      <td>0.00</td>\n",
       "      <td>4,548.00</td>\n",
       "      <td>Adventure Works Laptop15.4W M1548 Red</td>\n",
       "      <td>Adventure Works</td>\n",
       "      <td>Adventure Works</td>\n",
       "      <td>Regular</td>\n",
       "      <td>Red</td>\n",
       "      <td>2,091.48</td>\n",
       "      <td>2,456.52</td>\n",
       "      <td>13 days</td>\n",
       "    </tr>\n",
       "    <tr>\n",
       "      <th>15</th>\n",
       "      <td>2009-07-08</td>\n",
       "      <td>2009-07-12</td>\n",
       "      <td>306</td>\n",
       "      <td>384</td>\n",
       "      <td>19070</td>\n",
       "      <td>200907083CS757</td>\n",
       "      <td>348.58</td>\n",
       "      <td>758.00</td>\n",
       "      <td>6</td>\n",
       "      <td>0.00</td>\n",
       "      <td>4,548.00</td>\n",
       "      <td>Adventure Works Laptop15.4W M1548 Red</td>\n",
       "      <td>Adventure Works</td>\n",
       "      <td>Adventure Works</td>\n",
       "      <td>Regular</td>\n",
       "      <td>Red</td>\n",
       "      <td>2,091.48</td>\n",
       "      <td>2,456.52</td>\n",
       "      <td>4 days</td>\n",
       "    </tr>\n",
       "  </tbody>\n",
       "</table>\n",
       "</div>"
      ],
      "text/plain": [
       "   data_venda data_envio  id_loja  id_produto  id_cliente       no._venda  \\\n",
       "11 2009-05-02 2009-05-14      199         384       18938  200905023CS847   \n",
       "12 2009-05-16 2009-05-27      306         384       19067  200905163CS746   \n",
       "13 2009-05-31 2009-06-12      306         384       19068  200905313CS748   \n",
       "14 2009-06-28 2009-07-11      199         384       18959  200906283CS870   \n",
       "15 2009-07-08 2009-07-12      306         384       19070  200907083CS757   \n",
       "\n",
       "         custo_unitário       preço_unitário  quantidade       valor_desconto  \\\n",
       "11               348.58               758.00           6                 0.00   \n",
       "12               348.58               758.00           6                 0.00   \n",
       "13               348.58               758.00           6                 0.00   \n",
       "14               348.58               758.00           6                 0.00   \n",
       "15               348.58               758.00           6                 0.00   \n",
       "\n",
       "            valor_venda                                produto  \\\n",
       "11             4,548.00  Adventure Works Laptop15.4W M1548 Red   \n",
       "12             4,548.00  Adventure Works Laptop15.4W M1548 Red   \n",
       "13             4,548.00  Adventure Works Laptop15.4W M1548 Red   \n",
       "14             4,548.00  Adventure Works Laptop15.4W M1548 Red   \n",
       "15             4,548.00  Adventure Works Laptop15.4W M1548 Red   \n",
       "\n",
       "         fabricante            marca   classe  cor                custo  \\\n",
       "11  Adventure Works  Adventure Works  Regular  Red             2,091.48   \n",
       "12  Adventure Works  Adventure Works  Regular  Red             2,091.48   \n",
       "13  Adventure Works  Adventure Works  Regular  Red             2,091.48   \n",
       "14  Adventure Works  Adventure Works  Regular  Red             2,091.48   \n",
       "15  Adventure Works  Adventure Works  Regular  Red             2,091.48   \n",
       "\n",
       "                  lucro tempo_envio  \n",
       "11             2,456.52     12 days  \n",
       "12             2,456.52     11 days  \n",
       "13             2,456.52     12 days  \n",
       "14             2,456.52     13 days  \n",
       "15             2,456.52      4 days  "
      ]
     },
     "execution_count": 27,
     "metadata": {},
     "output_type": "execute_result"
    }
   ],
   "source": [
    "df_2009.head()"
   ]
  },
  {
   "cell_type": "code",
   "execution_count": 28,
   "id": "3c23fb39",
   "metadata": {},
   "outputs": [
    {
     "data": {
      "text/plain": [
       "Text(0, 0.5, 'Lucro')"
      ]
     },
     "execution_count": 28,
     "metadata": {},
     "output_type": "execute_result"
    },
    {
     "data": {
      "image/png": "[encoded data removed]",
      "text/plain": [
       "<Figure size 432x288 with 1 Axes>"
      ]
     },
     "metadata": {
      "needs_background": "light"
     },
     "output_type": "display_data"
    }
   ],
   "source": [
    "df_2009.groupby(df_2009[\"data_venda\"].dt.month)[\"lucro\"].sum().plot(title=\"Lucro x Mês\")\n",
    "plt.xlabel(\"Mês\")\n",
    "plt.ylabel(\"Lucro\")"
   ]
  },
  {
   "cell_type": "code",
   "execution_count": 29,
   "id": "f185aa5a",
   "metadata": {},
   "outputs": [
    {
     "data": {
      "image/png": "[encoded data removed]",
      "text/plain": [
       "<Figure size 432x288 with 1 Axes>"
      ]
     },
     "metadata": {
      "needs_background": "light"
     },
     "output_type": "display_data"
    }
   ],
   "source": [
    "df_2009.groupby(df_2009[\"marca\"])[\"lucro\"].sum().plot.bar(title=\"Lucro x Marca\")\n",
    "plt.xlabel(\"Marca\")\n",
    "plt.ylabel(\"Lucro\")\n",
    "plt.xticks(rotation=\"horizontal\"); # altera a posição dos labels\n",
    "\n",
    "# o ponto e virgula ao final faz desaparecer a descrição inicial do gráfico"
   ]
  },
  {
   "cell_type": "code",
   "execution_count": 30,
   "id": "818303bf",
   "metadata": {},
   "outputs": [
    {
     "data": {
      "image/png": "[encoded data removed]",
      "text/plain": [
       "<Figure size 432x288 with 1 Axes>"
      ]
     },
     "metadata": {
      "needs_background": "light"
     },
     "output_type": "display_data"
    }
   ],
   "source": [
    "df_2009.groupby(df_2009[\"classe\"])[\"lucro\"].sum().plot.bar(title=\"Lucro x Classe\")\n",
    "plt.xlabel(\"Classe\")\n",
    "plt.ylabel(\"Lucro\")\n",
    "plt.xticks(rotation=\"horizontal\"); # altera a posição dos labels"
   ]
  },
  {
   "cell_type": "code",
   "execution_count": 31,
   "id": "b01ed150",
   "metadata": {},
   "outputs": [
    {
     "data": {
      "text/html": [
       "<div>\n",
       "<style scoped>\n",
       "    .dataframe tbody tr th:only-of-type {\n",
       "        vertical-align: middle;\n",
       "    }\n",
       "\n",
       "    .dataframe tbody tr th {\n",
       "        vertical-align: top;\n",
       "    }\n",
       "\n",
       "    .dataframe thead th {\n",
       "        text-align: right;\n",
       "    }\n",
       "</style>\n",
       "<table border=\"1\" class=\"dataframe\">\n",
       "  <thead>\n",
       "    <tr style=\"text-align: right;\">\n",
       "      <th></th>\n",
       "      <th>index</th>\n",
       "      <th>tempo_envio</th>\n",
       "    </tr>\n",
       "  </thead>\n",
       "  <tbody>\n",
       "    <tr>\n",
       "      <th>0</th>\n",
       "      <td>count</td>\n",
       "      <td>904</td>\n",
       "    </tr>\n",
       "    <tr>\n",
       "      <th>1</th>\n",
       "      <td>mean</td>\n",
       "      <td>8 days 13:02:07.433628318</td>\n",
       "    </tr>\n",
       "    <tr>\n",
       "      <th>2</th>\n",
       "      <td>std</td>\n",
       "      <td>3 days 01:21:57.877052211</td>\n",
       "    </tr>\n",
       "    <tr>\n",
       "      <th>3</th>\n",
       "      <td>min</td>\n",
       "      <td>4 days 00:00:00</td>\n",
       "    </tr>\n",
       "    <tr>\n",
       "      <th>4</th>\n",
       "      <td>25%</td>\n",
       "      <td>6 days 00:00:00</td>\n",
       "    </tr>\n",
       "    <tr>\n",
       "      <th>5</th>\n",
       "      <td>50%</td>\n",
       "      <td>9 days 00:00:00</td>\n",
       "    </tr>\n",
       "    <tr>\n",
       "      <th>6</th>\n",
       "      <td>75%</td>\n",
       "      <td>11 days 00:00:00</td>\n",
       "    </tr>\n",
       "    <tr>\n",
       "      <th>7</th>\n",
       "      <td>max</td>\n",
       "      <td>20 days 00:00:00</td>\n",
       "    </tr>\n",
       "  </tbody>\n",
       "</table>\n",
       "</div>"
      ],
      "text/plain": [
       "   index                tempo_envio\n",
       "0  count                        904\n",
       "1   mean  8 days 13:02:07.433628318\n",
       "2    std  3 days 01:21:57.877052211\n",
       "3    min            4 days 00:00:00\n",
       "4    25%            6 days 00:00:00\n",
       "5    50%            9 days 00:00:00\n",
       "6    75%           11 days 00:00:00\n",
       "7    max           20 days 00:00:00"
      ]
     },
     "execution_count": 31,
     "metadata": {},
     "output_type": "execute_result"
    }
   ],
   "source": [
    "df[\"tempo_envio\"].describe().reset_index()"
   ]
  },
  {
   "cell_type": "code",
   "execution_count": 32,
   "id": "da93e804",
   "metadata": {},
   "outputs": [
    {
     "data": {
      "image/png": "[encoded data removed]",
      "text/plain": [
       "<Figure size 432x288 with 1 Axes>"
      ]
     },
     "metadata": {
      "needs_background": "light"
     },
     "output_type": "display_data"
    }
   ],
   "source": [
    "# Boxplot\n",
    "\n",
    "plt.boxplot(df[\"tempo_envio\"]);"
   ]
  },
  {
   "cell_type": "code",
   "execution_count": 34,
   "id": "1ec0b345",
   "metadata": {},
   "outputs": [
    {
     "ename": "TypeError",
     "evalue": "The DType <class 'numpy.dtype[timedelta64]'> could not be promoted by <class 'numpy.dtype[float64]'>. This means that no common DType exists for the given inputs. For example they cannot be stored in a single array unless the dtype is `object`. The full list of DTypes is: (<class 'numpy.dtype[timedelta64]'>, <class 'numpy.dtype[float64]'>)",
     "output_type": "error",
     "traceback": [
      "\u001b[1;31m---------------------------------------------------------------------------\u001b[0m",
      "\u001b[1;31mTypeError\u001b[0m                                 Traceback (most recent call last)",
      "Input \u001b[1;32mIn [34]\u001b[0m, in \u001b[0;36m<cell line: 1>\u001b[1;34m()\u001b[0m\n\u001b[1;32m----> 1\u001b[0m \u001b[43mplt\u001b[49m\u001b[38;5;241;43m.\u001b[39;49m\u001b[43mhist\u001b[49m\u001b[43m(\u001b[49m\u001b[43mdf\u001b[49m\u001b[43m[\u001b[49m\u001b[38;5;124;43m\"\u001b[39;49m\u001b[38;5;124;43mtempo_envio\u001b[39;49m\u001b[38;5;124;43m\"\u001b[39;49m\u001b[43m]\u001b[49m\u001b[43m)\u001b[49m\n",
      "File \u001b[1;32m~\\AppData\\Local\\Programs\\Python\\Python310\\lib\\site-packages\\matplotlib\\pyplot.py:2602\u001b[0m, in \u001b[0;36mhist\u001b[1;34m(x, bins, range, density, weights, cumulative, bottom, histtype, align, orientation, rwidth, log, color, label, stacked, data, **kwargs)\u001b[0m\n\u001b[0;32m   2596\u001b[0m \u001b[38;5;129m@_copy_docstring_and_deprecators\u001b[39m(Axes\u001b[38;5;241m.\u001b[39mhist)\n\u001b[0;32m   2597\u001b[0m \u001b[38;5;28;01mdef\u001b[39;00m \u001b[38;5;21mhist\u001b[39m(\n\u001b[0;32m   2598\u001b[0m         x, bins\u001b[38;5;241m=\u001b[39m\u001b[38;5;28;01mNone\u001b[39;00m, \u001b[38;5;28mrange\u001b[39m\u001b[38;5;241m=\u001b[39m\u001b[38;5;28;01mNone\u001b[39;00m, density\u001b[38;5;241m=\u001b[39m\u001b[38;5;28;01mFalse\u001b[39;00m, weights\u001b[38;5;241m=\u001b[39m\u001b[38;5;28;01mNone\u001b[39;00m,\n\u001b[0;32m   2599\u001b[0m         cumulative\u001b[38;5;241m=\u001b[39m\u001b[38;5;28;01mFalse\u001b[39;00m, bottom\u001b[38;5;241m=\u001b[39m\u001b[38;5;28;01mNone\u001b[39;00m, histtype\u001b[38;5;241m=\u001b[39m\u001b[38;5;124m'\u001b[39m\u001b[38;5;124mbar\u001b[39m\u001b[38;5;124m'\u001b[39m, align\u001b[38;5;241m=\u001b[39m\u001b[38;5;124m'\u001b[39m\u001b[38;5;124mmid\u001b[39m\u001b[38;5;124m'\u001b[39m,\n\u001b[0;32m   2600\u001b[0m         orientation\u001b[38;5;241m=\u001b[39m\u001b[38;5;124m'\u001b[39m\u001b[38;5;124mvertical\u001b[39m\u001b[38;5;124m'\u001b[39m, rwidth\u001b[38;5;241m=\u001b[39m\u001b[38;5;28;01mNone\u001b[39;00m, log\u001b[38;5;241m=\u001b[39m\u001b[38;5;28;01mFalse\u001b[39;00m, color\u001b[38;5;241m=\u001b[39m\u001b[38;5;28;01mNone\u001b[39;00m,\n\u001b[0;32m   2601\u001b[0m         label\u001b[38;5;241m=\u001b[39m\u001b[38;5;28;01mNone\u001b[39;00m, stacked\u001b[38;5;241m=\u001b[39m\u001b[38;5;28;01mFalse\u001b[39;00m, \u001b[38;5;241m*\u001b[39m, data\u001b[38;5;241m=\u001b[39m\u001b[38;5;28;01mNone\u001b[39;00m, \u001b[38;5;241m*\u001b[39m\u001b[38;5;241m*\u001b[39mkwargs):\n\u001b[1;32m-> 2602\u001b[0m     \u001b[38;5;28;01mreturn\u001b[39;00m gca()\u001b[38;5;241m.\u001b[39mhist(\n\u001b[0;32m   2603\u001b[0m         x, bins\u001b[38;5;241m=\u001b[39mbins, \u001b[38;5;28mrange\u001b[39m\u001b[38;5;241m=\u001b[39m\u001b[38;5;28mrange\u001b[39m, density\u001b[38;5;241m=\u001b[39mdensity, weights\u001b[38;5;241m=\u001b[39mweights,\n\u001b[0;32m   2604\u001b[0m         cumulative\u001b[38;5;241m=\u001b[39mcumulative, bottom\u001b[38;5;241m=\u001b[39mbottom, histtype\u001b[38;5;241m=\u001b[39mhisttype,\n\u001b[0;32m   2605\u001b[0m         align\u001b[38;5;241m=\u001b[39malign, orientation\u001b[38;5;241m=\u001b[39morientation, rwidth\u001b[38;5;241m=\u001b[39mrwidth, log\u001b[38;5;241m=\u001b[39mlog,\n\u001b[0;32m   2606\u001b[0m         color\u001b[38;5;241m=\u001b[39mcolor, label\u001b[38;5;241m=\u001b[39mlabel, stacked\u001b[38;5;241m=\u001b[39mstacked,\n\u001b[0;32m   2607\u001b[0m         \u001b[38;5;241m*\u001b[39m\u001b[38;5;241m*\u001b[39m({\u001b[38;5;124m\"\u001b[39m\u001b[38;5;124mdata\u001b[39m\u001b[38;5;124m\"\u001b[39m: data} \u001b[38;5;28;01mif\u001b[39;00m data \u001b[38;5;129;01mis\u001b[39;00m \u001b[38;5;129;01mnot\u001b[39;00m \u001b[38;5;28;01mNone\u001b[39;00m \u001b[38;5;28;01melse\u001b[39;00m {}), \u001b[38;5;241m*\u001b[39m\u001b[38;5;241m*\u001b[39mkwargs)\n",
      "File \u001b[1;32m~\\AppData\\Local\\Programs\\Python\\Python310\\lib\\site-packages\\matplotlib\\__init__.py:1412\u001b[0m, in \u001b[0;36m_preprocess_data.<locals>.inner\u001b[1;34m(ax, data, *args, **kwargs)\u001b[0m\n\u001b[0;32m   1409\u001b[0m \u001b[38;5;129m@functools\u001b[39m\u001b[38;5;241m.\u001b[39mwraps(func)\n\u001b[0;32m   1410\u001b[0m \u001b[38;5;28;01mdef\u001b[39;00m \u001b[38;5;21minner\u001b[39m(ax, \u001b[38;5;241m*\u001b[39margs, data\u001b[38;5;241m=\u001b[39m\u001b[38;5;28;01mNone\u001b[39;00m, \u001b[38;5;241m*\u001b[39m\u001b[38;5;241m*\u001b[39mkwargs):\n\u001b[0;32m   1411\u001b[0m     \u001b[38;5;28;01mif\u001b[39;00m data \u001b[38;5;129;01mis\u001b[39;00m \u001b[38;5;28;01mNone\u001b[39;00m:\n\u001b[1;32m-> 1412\u001b[0m         \u001b[38;5;28;01mreturn\u001b[39;00m func(ax, \u001b[38;5;241m*\u001b[39m\u001b[38;5;28mmap\u001b[39m(sanitize_sequence, args), \u001b[38;5;241m*\u001b[39m\u001b[38;5;241m*\u001b[39mkwargs)\n\u001b[0;32m   1414\u001b[0m     bound \u001b[38;5;241m=\u001b[39m new_sig\u001b[38;5;241m.\u001b[39mbind(ax, \u001b[38;5;241m*\u001b[39margs, \u001b[38;5;241m*\u001b[39m\u001b[38;5;241m*\u001b[39mkwargs)\n\u001b[0;32m   1415\u001b[0m     auto_label \u001b[38;5;241m=\u001b[39m (bound\u001b[38;5;241m.\u001b[39marguments\u001b[38;5;241m.\u001b[39mget(label_namer)\n\u001b[0;32m   1416\u001b[0m                   \u001b[38;5;129;01mor\u001b[39;00m bound\u001b[38;5;241m.\u001b[39mkwargs\u001b[38;5;241m.\u001b[39mget(label_namer))\n",
      "File \u001b[1;32m~\\AppData\\Local\\Programs\\Python\\Python310\\lib\\site-packages\\matplotlib\\axes\\_axes.py:6607\u001b[0m, in \u001b[0;36mAxes.hist\u001b[1;34m(self, x, bins, range, density, weights, cumulative, bottom, histtype, align, orientation, rwidth, log, color, label, stacked, **kwargs)\u001b[0m\n\u001b[0;32m   6603\u001b[0m \u001b[38;5;28;01mfor\u001b[39;00m xi \u001b[38;5;129;01min\u001b[39;00m x:\n\u001b[0;32m   6604\u001b[0m     \u001b[38;5;28;01mif\u001b[39;00m \u001b[38;5;28mlen\u001b[39m(xi):\n\u001b[0;32m   6605\u001b[0m         \u001b[38;5;66;03m# python's min/max ignore nan,\u001b[39;00m\n\u001b[0;32m   6606\u001b[0m         \u001b[38;5;66;03m# np.minnan returns nan for all nan input\u001b[39;00m\n\u001b[1;32m-> 6607\u001b[0m         xmin \u001b[38;5;241m=\u001b[39m \u001b[38;5;28;43mmin\u001b[39;49m\u001b[43m(\u001b[49m\u001b[43mxmin\u001b[49m\u001b[43m,\u001b[49m\u001b[43m \u001b[49m\u001b[43mnp\u001b[49m\u001b[38;5;241;43m.\u001b[39;49m\u001b[43mnanmin\u001b[49m\u001b[43m(\u001b[49m\u001b[43mxi\u001b[49m\u001b[43m)\u001b[49m\u001b[43m)\u001b[49m\n\u001b[0;32m   6608\u001b[0m         xmax \u001b[38;5;241m=\u001b[39m \u001b[38;5;28mmax\u001b[39m(xmax, np\u001b[38;5;241m.\u001b[39mnanmax(xi))\n\u001b[0;32m   6609\u001b[0m \u001b[38;5;28;01mif\u001b[39;00m xmin \u001b[38;5;241m<\u001b[39m\u001b[38;5;241m=\u001b[39m xmax:  \u001b[38;5;66;03m# Only happens if we have seen a finite value.\u001b[39;00m\n",
      "\u001b[1;31mTypeError\u001b[0m: The DType <class 'numpy.dtype[timedelta64]'> could not be promoted by <class 'numpy.dtype[float64]'>. This means that no common DType exists for the given inputs. For example they cannot be stored in a single array unless the dtype is `object`. The full list of DTypes is: (<class 'numpy.dtype[timedelta64]'>, <class 'numpy.dtype[float64]'>)"
     ]
    },
    {
     "data": {
      "image/png": "[encoded data removed]",
      "text/plain": [
       "<Figure size 432x288 with 1 Axes>"
      ]
     },
     "metadata": {
      "needs_background": "light"
     },
     "output_type": "display_data"
    }
   ],
   "source": [
    "plt.hist(df[\"tempo_envio\"]);"
   ]
  },
  {
   "cell_type": "code",
   "execution_count": 36,
   "id": "4cd3413c",
   "metadata": {},
   "outputs": [
    {
     "data": {
      "text/plain": [
       "Timedelta('20 days 00:00:00')"
      ]
     },
     "execution_count": 36,
     "metadata": {},
     "output_type": "execute_result"
    }
   ],
   "source": [
    "df[\"tempo_envio\"].max()"
   ]
  },
  {
   "cell_type": "code",
   "execution_count": 37,
   "id": "fbdf82b3",
   "metadata": {},
   "outputs": [
    {
     "data": {
      "text/html": [
       "<div>\n",
       "<style scoped>\n",
       "    .dataframe tbody tr th:only-of-type {\n",
       "        vertical-align: middle;\n",
       "    }\n",
       "\n",
       "    .dataframe tbody tr th {\n",
       "        vertical-align: top;\n",
       "    }\n",
       "\n",
       "    .dataframe thead th {\n",
       "        text-align: right;\n",
       "    }\n",
       "</style>\n",
       "<table border=\"1\" class=\"dataframe\">\n",
       "  <thead>\n",
       "    <tr style=\"text-align: right;\">\n",
       "      <th></th>\n",
       "      <th>data_venda</th>\n",
       "      <th>data_envio</th>\n",
       "      <th>id_loja</th>\n",
       "      <th>id_produto</th>\n",
       "      <th>id_cliente</th>\n",
       "      <th>no._venda</th>\n",
       "      <th>custo_unitário</th>\n",
       "      <th>preço_unitário</th>\n",
       "      <th>quantidade</th>\n",
       "      <th>valor_desconto</th>\n",
       "      <th>valor_venda</th>\n",
       "      <th>produto</th>\n",
       "      <th>fabricante</th>\n",
       "      <th>marca</th>\n",
       "      <th>classe</th>\n",
       "      <th>cor</th>\n",
       "      <th>custo</th>\n",
       "      <th>lucro</th>\n",
       "      <th>tempo_envio</th>\n",
       "    </tr>\n",
       "  </thead>\n",
       "  <tbody>\n",
       "  </tbody>\n",
       "</table>\n",
       "</div>"
      ],
      "text/plain": [
       "Empty DataFrame\n",
       "Columns: [data_venda, data_envio, id_loja, id_produto, id_cliente, no._venda, custo_unitário, preço_unitário, quantidade, valor_desconto, valor_venda, produto, fabricante, marca, classe, cor, custo, lucro, tempo_envio]\n",
       "Index: []"
      ]
     },
     "execution_count": 37,
     "metadata": {},
     "output_type": "execute_result"
    }
   ],
   "source": [
    "df[df[\"tempo_envio\"] == 20]"
   ]
  }
 ],
 "metadata": {
  "kernelspec": {
   "display_name": "Python 3 (ipykernel)",
   "language": "python",
   "name": "python3"
  },
  "language_info": {
   "codemirror_mode": {
    "name": "ipython",
    "version": 3
   },
   "file_extension": ".py",
   "mimetype": "text/x-python",
   "name": "python",
   "nbconvert_exporter": "python",
   "pygments_lexer": "ipython3",
   "version": "3.10.5"
  }
 },
 "nbformat": 4,
 "nbformat_minor": 5
}
